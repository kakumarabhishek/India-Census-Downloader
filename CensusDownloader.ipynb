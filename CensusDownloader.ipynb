{
 "cells": [
  {
   "cell_type": "code",
   "execution_count": 1,
   "metadata": {
    "collapsed": false
   },
   "outputs": [],
   "source": [
    "from bs4 import BeautifulSoup\n",
    "import urllib\n",
    "import json\n",
    "import csv\n",
    "import os"
   ]
  },
  {
   "cell_type": "code",
   "execution_count": 2,
   "metadata": {
    "collapsed": true
   },
   "outputs": [],
   "source": [
    "# base_url = \"http://censusindia.gov.in/pca/cdb_pca_census/cd_block.html\"\n",
    "base_url = \"http://censusindia.gov.in/pca/cdb_pca_census/\""
   ]
  },
  {
   "cell_type": "code",
   "execution_count": 3,
   "metadata": {
    "collapsed": true
   },
   "outputs": [],
   "source": [
    "states_page_link = base_url + \"/cd_block.html\""
   ]
  },
  {
   "cell_type": "code",
   "execution_count": 4,
   "metadata": {
    "collapsed": false
   },
   "outputs": [],
   "source": [
    "states_page = urllib.urlopen(states_page_link)\n",
    "states_soup = BeautifulSoup(states_page.read(), \"html.parser\")"
   ]
  },
  {
   "cell_type": "code",
   "execution_count": 5,
   "metadata": {
    "collapsed": false
   },
   "outputs": [],
   "source": [
    "# links = [link for link in soup.find_all(\"a\")]\n",
    "links = [link for link in states_soup.find_all(\"a\") if '<a href=\"Houselisting-housing' in str(link)]"
   ]
  },
  {
   "cell_type": "code",
   "execution_count": 6,
   "metadata": {
    "collapsed": false
   },
   "outputs": [
    {
     "name": "stdout",
     "output_type": "stream",
     "text": [
      "Andaman and Nicobar Islands UT -> Houselisting-housing-Andaman.html\n",
      "\n",
      "\n",
      "Haryana -> Houselisting-housing-HARYANA.html\n",
      "\n",
      "\n",
      "Nagaland -> Houselisting-housing-NAGALAND.html\n",
      "\n",
      "\n",
      "Andhra Pradesh  -> Houselisting-housing-AP.html\n",
      "\n",
      "\n",
      "Himachal Pradesh -> Houselisting-housing-Himachal_Pradesh.html\n",
      "\n",
      "\n",
      "Odisha -> Houselisting-housing-OR.html\n",
      "\n",
      "\n",
      "Arunachal Pradesh -> Houselisting-housing-Aurnachal_Pradesh.html\n",
      "\n",
      "\n",
      "Jammu & Kashmir -> Houselisting-housing-Jamu_&kasmir.html\n",
      "\n",
      "\n",
      "Puducherry UT -> Houselisting-housing-PUDUCHERRY.html\n",
      "\n",
      "\n",
      "Assam -> Houselisting-housing-Assam.html\n",
      "\n",
      "\n",
      "Jharkhand -> Houselisting-housing-JK.html\n",
      "\n",
      "\n",
      " Punjab -> Houselisting-housing-PUNJAB.html\n",
      "\n",
      "\n",
      " Bihar -> Houselisting-housing-BR.html\n",
      "\n",
      "\n",
      "Karnataka -> Houselisting-housing-Kar.html\n",
      "\n",
      "\n",
      "Rajasthan  -> Houselisting-housing-RJ.html\n",
      "\n",
      "\n",
      " Chandigarh UT -> Houselisting-housing-Chandighra.html\n",
      "\n",
      "\n",
      "Kerala -> Houselisting-housing-Kerl.html\n",
      "\n",
      "\n",
      "Sikkim -> Houselisting-housing-SK.html\n",
      "\n",
      "\n",
      " Chhattisgarh -> Houselisting-housing-Chatisghra.html\n",
      "\n",
      "\n",
      "Lakshadweep UT -> Houselisting-housing-Lakshadweep.html\n",
      "\n",
      "\n",
      "Tamil Nadu -> Houselisting-housing-TM.html\n",
      "\n",
      "\n",
      "Dadra & Nagar Haveli UT -> Houselisting-housing-Dadra_&_Nagar_Haveli.html\n",
      "\n",
      "\n",
      "Madhya Pradesh  -> Houselisting-housing-MP.html\n",
      "\n",
      "\n",
      "Tripura -> Houselisting-housing-TRIPURA.html\n",
      "\n",
      "\n",
      "Daman & Diu UT  -> Houselisting-housing-DAMAN_&_DIU.html\n",
      "\n",
      "\n",
      "Maharashtra  -> Houselisting-housing-Maha.html\n",
      "\n",
      "\n",
      "Uttar Pradesh -> Houselisting-housing-UP.html\n",
      "\n",
      "\n",
      "NCT of Delhi -> Houselisting-housing-Delhi.html\n",
      "\n",
      "\n",
      "Manipur -> Houselisting-housing-MANIPUR.html\n",
      "\n",
      "\n",
      "Uttarakhand -> Houselisting-housing-UK.html\n",
      "\n",
      "\n",
      " Goa -> Houselisting-housing-Goa.html\n",
      "\n",
      "\n",
      "Meghalaya -> Houselisting-housing-MEGHALAYA.html\n",
      "\n",
      "\n",
      " West Bengal -> Houselisting-housing-WB.html\n",
      "\n",
      "\n",
      "Gujarat -> Houselisting-housing-Gujarat.html\n",
      "\n",
      "\n",
      "Mizoram -> Houselisting-housing-MIZORAM.html\n",
      "\n",
      "\n"
     ]
    }
   ],
   "source": [
    "for link in links:\n",
    "    print link.contents[0] + \" -> \" + link.attrs[\"href\"]\n",
    "    \n",
    "    blocks_page_link = base_url + link.attrs[\"href\"]\n",
    "    blocks_page = urllib.urlopen(blocks_page_link)\n",
    "    blocks_soup = BeautifulSoup(blocks_page.read(), \"html.parser\")\n",
    "    files = \n",
    "    \n",
    "    \n",
    "    print '\\n'"
   ]
  },
  {
   "cell_type": "code",
   "execution_count": null,
   "metadata": {
    "collapsed": true
   },
   "outputs": [],
   "source": []
  }
 ],
 "metadata": {
  "anaconda-cloud": {},
  "kernelspec": {
   "display_name": "Python [Root]",
   "language": "python",
   "name": "Python [Root]"
  },
  "language_info": {
   "codemirror_mode": {
    "name": "ipython",
    "version": 2
   },
   "file_extension": ".py",
   "mimetype": "text/x-python",
   "name": "python",
   "nbconvert_exporter": "python",
   "pygments_lexer": "ipython2",
   "version": "2.7.12"
  }
 },
 "nbformat": 4,
 "nbformat_minor": 0
}
